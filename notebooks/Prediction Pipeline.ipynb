{
 "cells": [
  {
   "cell_type": "code",
   "execution_count": 24,
   "id": "89c24153-0b11-4941-9939-c71d27f70c22",
   "metadata": {},
   "outputs": [],
   "source": [
    "import numpy as np\n",
    "import pandas as pd\n",
    "import re\n",
    "import string\n",
    "import pickle"
   ]
  },
  {
   "cell_type": "code",
   "execution_count": 25,
   "id": "d57849c2-0bd4-4a23-84b7-77a3739800db",
   "metadata": {},
   "outputs": [],
   "source": [
    "with open('../static/model/svc_model.pkl', 'rb') as f:\n",
    "    model = pickle.load(f)"
   ]
  },
  {
   "cell_type": "code",
   "execution_count": 26,
   "id": "532a942e-e44f-4fa8-9fbb-43c6629ddbc8",
   "metadata": {},
   "outputs": [],
   "source": [
    "vocab = pd.read_csv(\"../static/model/vocabulary.txt\", header = None)\n",
    "tokens = vocab[0].tolist()"
   ]
  },
  {
   "cell_type": "code",
   "execution_count": 27,
   "id": "8b75bdd8-1e70-4096-a9de-90e552c2deec",
   "metadata": {},
   "outputs": [],
   "source": [
    "#Open stop word file\n",
    "with open('../static/model/corpora/stopwords/english', 'r') as file:\n",
    "    sw = file.read().splitlines()"
   ]
  },
  {
   "cell_type": "code",
   "execution_count": 28,
   "id": "60487395-23e6-460e-be82-33cecef1fdb2",
   "metadata": {},
   "outputs": [],
   "source": [
    "#Remove punctuation function\n",
    "def remove_punctuation(text):\n",
    "    for pun in string.punctuation:\n",
    "        text = text.replace(pun, '')\n",
    "    return text"
   ]
  },
  {
   "cell_type": "code",
   "execution_count": 29,
   "id": "bed7541c-e8b0-4b87-b4e0-126062bf22dc",
   "metadata": {},
   "outputs": [],
   "source": [
    "from nltk.stem import PorterStemmer\n",
    "ps = PorterStemmer()"
   ]
  },
  {
   "cell_type": "code",
   "execution_count": 30,
   "id": "a535f272-c80c-45d4-8382-059f38a77524",
   "metadata": {},
   "outputs": [
    {
     "name": "stderr",
     "output_type": "stream",
     "text": [
      "<>:8: SyntaxWarning: invalid escape sequence '\\d'\n",
      "<>:8: SyntaxWarning: invalid escape sequence '\\d'\n",
      "C:\\Users\\Acer\\AppData\\Local\\Temp\\ipykernel_23912\\719829006.py:8: SyntaxWarning: invalid escape sequence '\\d'\n",
      "  data[\"tweet\"] = data[\"tweet\"].str.replace('\\d+', '', regex = True)\n"
     ]
    }
   ],
   "source": [
    "\n",
    "def text_preprocessing(text):\n",
    "    data = pd.DataFrame([text], columns=[\"tweet\"])\n",
    "    #Covert Uppercase to Lowercase\n",
    "    data[\"tweet\"] = data[\"tweet\"].apply(lambda x: \" \".join(x.lower() for x in x.split()))\n",
    "    #Remove links\n",
    "    data[\"tweet\"] = data[\"tweet\"].apply(lambda x: \" \".join(re.sub(r'^https?:\\/\\/.*[\\r\\n]*', '', x, flags=re.MULTILINE) for x in x.split()))\n",
    "    #Remove numbers\n",
    "    data[\"tweet\"] = data[\"tweet\"].str.replace('\\d+', '', regex = True)\n",
    "    #Remove punctuation\n",
    "    data[\"tweet\"] = data[\"tweet\"].apply(remove_punctuation)\n",
    "    #Remove stopwords\n",
    "    data['tweet'] = data[\"tweet\"].apply(lambda x:\" \".join(x for x in x.split() if x not in sw))\n",
    "    #Stemming\n",
    "    data['tweet'] = data[\"tweet\"].apply(lambda x:\" \".join(ps.stem(x) for x in x.split()))\n",
    "\n",
    "    return data[\"tweet\"]"
   ]
  },
  {
   "cell_type": "code",
   "execution_count": 16,
   "id": "4b417770-d0b9-4af1-bc8f-f3fd5f871444",
   "metadata": {},
   "outputs": [],
   "source": [
    "def vectorizer(ds, vocabulary):\n",
    "    vectorized_lst = []\n",
    "\n",
    "    for sen in ds:\n",
    "        sen_lst = np.zeros(len(vocabulary))\n",
    "\n",
    "        for i in range(len(vocabulary)):\n",
    "            if vocabulary[i] in sen.split():\n",
    "                sen_lst[i] = 1\n",
    "        vectorized_lst.append(sen_lst)\n",
    "\n",
    "    vectorized_lst_new = np.asarray(vectorized_lst, dtype=np.float32)\n",
    "\n",
    "    return vectorized_lst_new"
   ]
  },
  {
   "cell_type": "code",
   "execution_count": 38,
   "id": "a0c6e255-c56b-41ee-bdfb-becf67d5cb15",
   "metadata": {},
   "outputs": [],
   "source": [
    "text = \"awesome product. i love it\""
   ]
  },
  {
   "cell_type": "code",
   "execution_count": 39,
   "id": "6e0064c6-4e47-4cff-948a-96f2af61a30b",
   "metadata": {},
   "outputs": [],
   "source": [
    "def get_prediction(vectorizered_text):\n",
    "    prediction = model.predict(vectorizered_text)\n",
    "    if prediction == 1:\n",
    "        return 'Negative'\n",
    "    else:\n",
    "        return 'Positive'"
   ]
  },
  {
   "cell_type": "code",
   "execution_count": 40,
   "id": "73e9b5ef-82c9-4bd1-a4b8-82a83baa6498",
   "metadata": {},
   "outputs": [],
   "source": [
    "preprocessed_text = text_preprocessing(text)\n",
    "vectorizered_text = vectorizer(preprocessed_text, tokens)\n",
    "prediction = get_prediction(vectorizered_text)"
   ]
  },
  {
   "cell_type": "code",
   "execution_count": 41,
   "id": "6d6c6579-ea24-458b-9318-5fff52b32d43",
   "metadata": {},
   "outputs": [
    {
     "data": {
      "text/plain": [
       "'Positive'"
      ]
     },
     "execution_count": 41,
     "metadata": {},
     "output_type": "execute_result"
    }
   ],
   "source": [
    "prediction"
   ]
  },
  {
   "cell_type": "code",
   "execution_count": null,
   "id": "3e9a63de-c761-452a-9e6e-bffee683720e",
   "metadata": {},
   "outputs": [],
   "source": []
  }
 ],
 "metadata": {
  "kernelspec": {
   "display_name": "Python 3 (ipykernel)",
   "language": "python",
   "name": "python3"
  },
  "language_info": {
   "codemirror_mode": {
    "name": "ipython",
    "version": 3
   },
   "file_extension": ".py",
   "mimetype": "text/x-python",
   "name": "python",
   "nbconvert_exporter": "python",
   "pygments_lexer": "ipython3",
   "version": "3.12.4"
  }
 },
 "nbformat": 4,
 "nbformat_minor": 5
}
